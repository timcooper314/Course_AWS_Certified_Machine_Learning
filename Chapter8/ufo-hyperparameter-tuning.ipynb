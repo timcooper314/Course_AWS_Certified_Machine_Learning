{
 "cells": [
  {
   "cell_type": "markdown",
   "metadata": {},
   "source": [
    "### UFO Hyperparameter Tuning"
   ]
  },
  {
   "cell_type": "markdown",
   "metadata": {},
   "source": [
    "As an extension to our baseline Linear Learner model, we will create a hyperparameter tuning job."
   ]
  },
  {
   "cell_type": "code",
   "execution_count": null,
   "metadata": {},
   "outputs": [],
   "source": [
    "from datetime import datetime\n",
    "import sagemaker\n",
    "from sagemaker import get_execution_role\n",
    "from sagemaker.parameter import ParameterRange"
   ]
  },
  {
   "cell_type": "code",
   "execution_count": null,
   "metadata": {},
   "outputs": [],
   "source": [
    "role = get_execution_role()\n",
    "boto3_sess = boto3.Session()\n",
    "bucket = \"tc-ml-cert-training\""
   ]
  },
  {
   "cell_type": "markdown",
   "metadata": {},
   "source": [
    "Let's get the recordIO files for the training and validation data that is in S3"
   ]
  },
  {
   "cell_type": "code",
   "execution_count": null,
   "metadata": {},
   "outputs": [],
   "source": [
    "train_file = \"ufo_sightings_train_recordIO_protobuf.data\"\n",
    "training_recordIO_protobuf_location = (\n",
    "    f\"s3://{bucket}/algorithms_lab/linearlearner_train/{train_file}\"\n",
    ")\n",
    "print(\n",
    "    f\"The Pipe mode recordIO protobuf training data: {training_recordIO_protobuf_location}\"\n",
    ")\n",
    "validation_file = \"ufo_sightings_validatioin_recordIO_protobuf.data\"\n",
    "validate_recordIO_protobuf_location = (\n",
    "    f\"s3://{bucket}/algorithms_lab/linearlearner_validation/{validation_file}\"\n",
    ")\n",
    "print(\n",
    "    f\"The Pipe mode recordIO protobuf validation data: {validate_recordIO_protobuf_location}\"\n",
    ")"
   ]
  },
  {
   "cell_type": "code",
   "execution_count": null,
   "metadata": {},
   "outputs": [],
   "source": [
    "# Create a training job name\n",
    "dt_now = datetime.now().strftime(\"%Y%m%d%H%M%S\")\n",
    "tuning_job_name = f\"linear-learner-tuning-job-{dt_now}\"\n",
    "# Here is where the model-artifact will be stored:\n",
    "output_location = f\"s3://{bucket}/optimization_evaluation_lab/linearlearner_hyperparameter_tuning_output\""
   ]
  },
  {
   "cell_type": "code",
   "execution_count": null,
   "metadata": {},
   "outputs": [],
   "source": [
    "container = sagemaker.image_uris.retrieve(\"linear-learner\", boto3_sess.region_name, \"1\")\n",
    "sess = sagemaker.Session()"
   ]
  },
  {
   "cell_type": "code",
   "execution_count": null,
   "metadata": {},
   "outputs": [],
   "source": [
    "# Setup the LinearLeaner algorithm from the ECR container\n",
    "linear = sagemaker.estimator.Estimator(\n",
    "    container,\n",
    "    role,\n",
    "    instance_count=1,\n",
    "    instance_type=\"ml.c4.xlarge\",\n",
    "    output_path=output_location,\n",
    "    sagemaker_session=sess,\n",
    "    input_mode=\"Pipe\",\n",
    ")\n",
    "# Setup the hyperparameters\n",
    "linear.set_hyperparameters(\n",
    "    feature_dim=22,  # number of attributes (minus the researchOutcome attribute)\n",
    "    predictor_type=\"multiclass_classifier\",  # type of classification problem\n",
    "    num_classes=3,\n",
    ")  # number of classes in out researchOutcome (explained, unexplained, probable)\n",
    "\n",
    "\n",
    "# Launch a training job. This method calls the CreateTrainingJob API call\n",
    "data_channels = {\n",
    "    \"train\": training_recordIO_protobuf_location,\n",
    "    \"validation\": validate_recordIO_protobuf_location,\n",
    "}"
   ]
  },
  {
   "cell_type": "code",
   "execution_count": null,
   "metadata": {},
   "outputs": [],
   "source": [
    "# Specify some hyperparameter ranges for our tuning job:\n",
    "hyperparameter_ranges = {\n",
    "    \"mini_batch_size\": ParameterRange(\n",
    "        min_value=500, max_value=5000, scaling_type=\"Linear\"\n",
    "    ),\n",
    "    \"wd\": ParameterRange(min_value=0.0001, max_value=1.0, scaling_type=\"Logarithmic\"),\n",
    "    \"l1\": ParameterRange(min_value=0.0001, max_value=1.0, scaling_type=\"Logarithmic\"),\n",
    "    \"learning_rate\": ParameterRange(\n",
    "        min_value=0.0001, max_value=1.0, scaling_type=\"Logarithmic\"\n",
    "    ),\n",
    "}"
   ]
  },
  {
   "cell_type": "code",
   "execution_count": null,
   "metadata": {},
   "outputs": [],
   "source": [
    "hyperparameter_tuner = sagemaker.tuner.HyperparameterTuner(\n",
    "    base_tuning_job_name=tuning_job_name,\n",
    "    estimator=linear,\n",
    "    objective_metric_name=\"validation:objective_loss\",\n",
    "    objective_type=\"Minimize\",\n",
    "    strategy=\"Bayesian\",\n",
    "    hyperparameter_ranges=hyperparameter_ranges,\n",
    "    max_jobs=20,\n",
    "    max_parallel_jobs=4,\n",
    ")\n",
    "hyperparameter_tuner.fit(data_channels)"
   ]
  }
 ],
 "metadata": {
  "language_info": {
   "name": "python"
  },
  "orig_nbformat": 4
 },
 "nbformat": 4,
 "nbformat_minor": 2
}
